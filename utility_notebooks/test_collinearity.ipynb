{
 "cells": [
  {
   "cell_type": "code",
   "execution_count": 1,
   "id": "d0750bf7",
   "metadata": {},
   "outputs": [],
   "source": [
    "from src.data.esophagus.esophagus_data import EsophagusData\n",
    "from src.preprocess import get_preprocessed_data\n",
    "from src.utils.feature_selector import FeatureSelector\n",
    "import numpy as np\n",
    "import pandas as pd"
   ]
  },
  {
   "cell_type": "code",
   "execution_count": 2,
   "id": "47a584bf",
   "metadata": {},
   "outputs": [
    {
     "name": "stdout",
     "output_type": "stream",
     "text": [
      "[]\n",
      "['Sex', 'AI gesamt', 'ZNS_NE', 'Sonnen-scheindauer[h]', 'Herzrhythmusstörung', 'inabitity_CTX_within _6weeks', 'Gamma-GT', 'Pylorusstenose', 'inability_ CTX_within_4weeks', 'Diabetes', 'Autoimmunerkrankung', 'paVk', 'Herzinsuffizienz', 'aHt', 'Hepatose', 'Re-Admission ICU', 'Gerinnungsstörung', 'MittlereTemp.[°C]', 'Gewicht in kg', 'Infektionserkrankung', 'Pneumonie', 'KHK', 'Nieder-schlag[l/m2]', 'Lungenerkrankung', 'Herzklappenerkrankung']\n",
      "['Any_malignancy', 'Diabetes_without_chronic_complications']\n",
      "2 features with a single unique value.\n",
      "\n",
      "[]\n",
      "0 features with greater than 0.50 missing values.\n",
      "\n",
      "2 features with a correlation greater than 0.95.\n",
      "\n",
      "['Hämatokrit', 'HIV_infection_no_AIDS']\n",
      "Removed 4 features\n",
      "['Histologie', 'Lokalisation', 'Vorbehandlung', 'Tpre', 'Npre', 'ASA', 'GFR']\n",
      "Running IterativeImputer...\n"
     ]
    },
    {
     "name": "stderr",
     "output_type": "stream",
     "text": [
      "The frame.append method is deprecated and will be removed from pandas in a future version. Use pandas.concat instead.\n"
     ]
    },
    {
     "name": "stdout",
     "output_type": "stream",
     "text": [
      "Normalising numerical features...\n",
      "Class distributions for 409 data points, validation=False:\n",
      "Endpoint Death_within_primary_stay:\n",
      "\tClass \"0\":\t392 (0.958)\n",
      "\tClass \"1\":\t17 (0.042)\n",
      "\n",
      "\n",
      "Endpoint 30d_mortality:\n",
      "\tClass \"0\":\t400 (0.978)\n",
      "\tClass \"1\":\t9 (0.022)\n",
      "\n",
      "\n",
      "Endpoint 90d_mortality:\n",
      "\tClass \"0\":\t391 (0.956)\n",
      "\tClass \"1\":\t18 (0.044)\n",
      "\n",
      "\n",
      "['Any_malignancy', 'Diabetes_without_chronic_complications']\n",
      "2 features with a single unique value.\n",
      "\n",
      "[]\n",
      "0 features with greater than 0.50 missing values.\n",
      "\n",
      "2 features with a correlation greater than 0.95.\n",
      "\n",
      "['Hämatokrit', 'HIV_infection_no_AIDS']\n",
      "Removed 4 features\n",
      "['Histologie', 'Lokalisation', 'Vorbehandlung', 'Tpre', 'Npre', 'ASA', 'GFR']\n",
      "Running IterativeImputer...\n"
     ]
    },
    {
     "name": "stderr",
     "output_type": "stream",
     "text": [
      "The frame.append method is deprecated and will be removed from pandas in a future version. Use pandas.concat instead.\n"
     ]
    },
    {
     "name": "stdout",
     "output_type": "stream",
     "text": [
      "Normalising numerical features...\n",
      "Class distributions for 148 data points, validation=True:\n",
      "Endpoint Death_within_primary_stay:\n",
      "\tClass \"0\":\t133 (0.899)\n",
      "\tClass \"1\":\t15 (0.101)\n",
      "\n",
      "\n",
      "Endpoint 30d_mortality:\n",
      "\tClass \"0.0\":\t142 (0.959)\n",
      "\tClass \"1.0\":\t6 (0.041)\n",
      "\n",
      "\n",
      "Endpoint 90d_mortality:\n",
      "\tClass \"0\":\t135 (0.912)\n",
      "\tClass \"1\":\t13 (0.088)\n",
      "\n",
      "\n",
      "Index(['ASA_5.0', 'Histologie_0', 'Lokalisation_0'], dtype='object')\n"
     ]
    }
   ],
   "source": [
    "data = EsophagusData()\n",
    "data.parse(drop_columns=True, feature_set=None, drop_missing_value=0, exploration=False, external_validation=True)\n",
    "X, Y = get_preprocessed_data(data, verbose=False, validation=False)\n",
    "X_val, Y_val = get_preprocessed_data(data, verbose=False, validation=True)\n",
    "print(X_val.columns.difference(X.columns))\n",
    "# Get rid of extra columns introduced by values in validation dataset\n",
    "X_val = X_val.drop(set(X_val.columns.difference(X.columns)), axis=1)"
   ]
  },
  {
   "cell_type": "code",
   "execution_count": 3,
   "id": "24155bbf",
   "metadata": {},
   "outputs": [],
   "source": [
    "X_raw, Y_raw = data.get_data()"
   ]
  },
  {
   "cell_type": "code",
   "execution_count": 5,
   "id": "2496d22a",
   "metadata": {},
   "outputs": [
    {
     "data": {
      "text/plain": [
       "0      1.07\n",
       "1      1.14\n",
       "2      1.13\n",
       "3      0.98\n",
       "4      0.96\n",
       "       ... \n",
       "404    1.06\n",
       "405    1.03\n",
       "406    1.00\n",
       "407    1.08\n",
       "408    1.02\n",
       "Name: INR, Length: 409, dtype: float64"
      ]
     },
     "execution_count": 5,
     "metadata": {},
     "output_type": "execute_result"
    }
   ],
   "source": [
    "X_raw['INR']"
   ]
  },
  {
   "cell_type": "code",
   "execution_count": 6,
   "id": "4b929cda",
   "metadata": {},
   "outputs": [
    {
     "data": {
      "text/plain": [
       "0       89\n",
       "1       81\n",
       "2       82\n",
       "3      103\n",
       "4      114\n",
       "      ... \n",
       "404     90\n",
       "405     96\n",
       "406    100\n",
       "407     88\n",
       "408     97\n",
       "Name: Quick, Length: 409, dtype: int64"
      ]
     },
     "execution_count": 6,
     "metadata": {},
     "output_type": "execute_result"
    }
   ],
   "source": [
    "X_raw['Quick']"
   ]
  },
  {
   "cell_type": "code",
   "execution_count": 11,
   "id": "1fd49a34",
   "metadata": {},
   "outputs": [],
   "source": [
    "fs = FeatureSelector()"
   ]
  },
  {
   "cell_type": "code",
   "execution_count": 46,
   "id": "7df3dd2e",
   "metadata": {},
   "outputs": [
    {
     "name": "stdout",
     "output_type": "stream",
     "text": [
      "4 features with a correlation greater than 0.85.\n",
      "\n"
     ]
    },
    {
     "name": "stderr",
     "output_type": "stream",
     "text": [
      "The frame.append method is deprecated and will be removed from pandas in a future version. Use pandas.concat instead.\n"
     ]
    }
   ],
   "source": [
    "fs.identify_collinear(X_raw, 0.85)"
   ]
  },
  {
   "cell_type": "code",
   "execution_count": 48,
   "id": "c41089ba",
   "metadata": {},
   "outputs": [
    {
     "data": {
      "text/plain": [
       "['Hämatokrit', 'INR', 'Erythrozyten', 'HIV_infection_no_AIDS']"
      ]
     },
     "execution_count": 48,
     "metadata": {},
     "output_type": "execute_result"
    }
   ],
   "source": [
    "fs.removal_ops['collinear']"
   ]
  },
  {
   "cell_type": "code",
   "execution_count": 47,
   "id": "c848b3da",
   "metadata": {},
   "outputs": [
    {
     "data": {
      "text/html": [
       "<div>\n",
       "<style scoped>\n",
       "    .dataframe tbody tr th:only-of-type {\n",
       "        vertical-align: middle;\n",
       "    }\n",
       "\n",
       "    .dataframe tbody tr th {\n",
       "        vertical-align: top;\n",
       "    }\n",
       "\n",
       "    .dataframe thead th {\n",
       "        text-align: right;\n",
       "    }\n",
       "</style>\n",
       "<table border=\"1\" class=\"dataframe\">\n",
       "  <thead>\n",
       "    <tr style=\"text-align: right;\">\n",
       "      <th></th>\n",
       "      <th>drop_feature</th>\n",
       "      <th>corr_feature</th>\n",
       "      <th>corr_value</th>\n",
       "    </tr>\n",
       "  </thead>\n",
       "  <tbody>\n",
       "    <tr>\n",
       "      <th>0</th>\n",
       "      <td>Hämatokrit</td>\n",
       "      <td>Hämoglobin</td>\n",
       "      <td>0.969437</td>\n",
       "    </tr>\n",
       "    <tr>\n",
       "      <th>1</th>\n",
       "      <td>INR</td>\n",
       "      <td>Quick</td>\n",
       "      <td>-0.940574</td>\n",
       "    </tr>\n",
       "    <tr>\n",
       "      <th>2</th>\n",
       "      <td>Erythrozyten</td>\n",
       "      <td>Hämoglobin</td>\n",
       "      <td>0.851390</td>\n",
       "    </tr>\n",
       "    <tr>\n",
       "      <th>3</th>\n",
       "      <td>Erythrozyten</td>\n",
       "      <td>Hämatokrit</td>\n",
       "      <td>0.884200</td>\n",
       "    </tr>\n",
       "    <tr>\n",
       "      <th>4</th>\n",
       "      <td>HIV_infection_no_AIDS</td>\n",
       "      <td>AIDS</td>\n",
       "      <td>1.000000</td>\n",
       "    </tr>\n",
       "  </tbody>\n",
       "</table>\n",
       "</div>"
      ],
      "text/plain": [
       "            drop_feature corr_feature  corr_value\n",
       "0             Hämatokrit   Hämoglobin    0.969437\n",
       "1                    INR        Quick   -0.940574\n",
       "2           Erythrozyten   Hämoglobin    0.851390\n",
       "3           Erythrozyten   Hämatokrit    0.884200\n",
       "4  HIV_infection_no_AIDS         AIDS    1.000000"
      ]
     },
     "execution_count": 47,
     "metadata": {},
     "output_type": "execute_result"
    }
   ],
   "source": [
    "fs.record_collinear"
   ]
  },
  {
   "cell_type": "code",
   "execution_count": 37,
   "id": "662dc716",
   "metadata": {},
   "outputs": [
    {
     "data": {
      "text/plain": [
       "-0.9405744133623941"
      ]
     },
     "execution_count": 37,
     "metadata": {},
     "output_type": "execute_result"
    }
   ],
   "source": [
    "X_raw['INR'].corr(X_raw['Quick'])"
   ]
  },
  {
   "cell_type": "code",
   "execution_count": 19,
   "id": "288517fe",
   "metadata": {},
   "outputs": [],
   "source": [
    "import matplotlib.pyplot as plt"
   ]
  },
  {
   "cell_type": "code",
   "execution_count": 21,
   "id": "e086250e",
   "metadata": {},
   "outputs": [],
   "source": [
    "d = np.array([[1.0, 100], [1.25, 70], [1.5, 55], [2.2, 36], [2.8, 29], [3.0, 27], [3.5, 24], [4.4, 20], [5.1, 18], [6.1, 16], [7.5, 14], [9.8, 12]])"
   ]
  },
  {
   "cell_type": "code",
   "execution_count": 30,
   "id": "ead4ef81",
   "metadata": {},
   "outputs": [
    {
     "data": {
      "text/plain": [
       "<matplotlib.collections.PathCollection at 0x7f2847d20190>"
      ]
     },
     "execution_count": 30,
     "metadata": {},
     "output_type": "execute_result"
    },
    {
     "data": {
      "image/png": "[encoded data removed]",
      "text/plain": [
       "<Figure size 640x480 with 1 Axes>"
      ]
     },
     "metadata": {},
     "output_type": "display_data"
    }
   ],
   "source": [
    "plt.scatter(x=d[:, 0], y=d[:, 1])\n",
    "plt.scatter(x=X_raw['INR'], y=X_raw['Quick'], marker='x')"
   ]
  },
  {
   "cell_type": "code",
   "execution_count": 27,
   "id": "01ffc252",
   "metadata": {},
   "outputs": [],
   "source": []
  },
  {
   "cell_type": "code",
   "execution_count": 19,
   "id": "1f208b02",
   "metadata": {},
   "outputs": [],
   "source": [
    "y = Y['90d_mortality']\n",
    "y_val = Y_val['90d_mortality']"
   ]
  },
  {
   "cell_type": "code",
   "execution_count": 47,
   "id": "2a5ae1db",
   "metadata": {},
   "outputs": [],
   "source": [
    "from sklearn.feature_selection import SelectFromModel, SelectKBest\n",
    "from sklearn.svm import LinearSVC"
   ]
  },
  {
   "cell_type": "code",
   "execution_count": 34,
   "id": "5df2cc80",
   "metadata": {},
   "outputs": [],
   "source": [
    "model = LinearSVC(C=1, penalty=\"l1\", dual=False, max_iter=5000, verbose=1)"
   ]
  },
  {
   "cell_type": "code",
   "execution_count": 48,
   "id": "f5ca43aa",
   "metadata": {},
   "outputs": [],
   "source": [
    "selection = SelectFromModel(LinearSVC(C=1, penalty=\"l1\", dual=False, max_iter=5000))\n",
    "select_k_best = SelectKBest(k=25)"
   ]
  },
  {
   "cell_type": "code",
   "execution_count": 49,
   "id": "a25fed6f",
   "metadata": {},
   "outputs": [
    {
     "data": {
      "text/html": [
       "<style>#sk-container-id-10 {color: black;background-color: white;}#sk-container-id-10 pre{padding: 0;}#sk-container-id-10 div.sk-toggleable {background-color: white;}#sk-container-id-10 label.sk-toggleable__label {cursor: pointer;display: block;width: 100%;margin-bottom: 0;padding: 0.3em;box-sizing: border-box;text-align: center;}#sk-container-id-10 label.sk-toggleable__label-arrow:before {content: \"▸\";float: left;margin-right: 0.25em;color: #696969;}#sk-container-id-10 label.sk-toggleable__label-arrow:hover:before {color: black;}#sk-container-id-10 div.sk-estimator:hover label.sk-toggleable__label-arrow:before {color: black;}#sk-container-id-10 div.sk-toggleable__content {max-height: 0;max-width: 0;overflow: hidden;text-align: left;background-color: #f0f8ff;}#sk-container-id-10 div.sk-toggleable__content pre {margin: 0.2em;color: black;border-radius: 0.25em;background-color: #f0f8ff;}#sk-container-id-10 input.sk-toggleable__control:checked~div.sk-toggleable__content {max-height: 200px;max-width: 100%;overflow: auto;}#sk-container-id-10 input.sk-toggleable__control:checked~label.sk-toggleable__label-arrow:before {content: \"▾\";}#sk-container-id-10 div.sk-estimator input.sk-toggleable__control:checked~label.sk-toggleable__label {background-color: #d4ebff;}#sk-container-id-10 div.sk-label input.sk-toggleable__control:checked~label.sk-toggleable__label {background-color: #d4ebff;}#sk-container-id-10 input.sk-hidden--visually {border: 0;clip: rect(1px 1px 1px 1px);clip: rect(1px, 1px, 1px, 1px);height: 1px;margin: -1px;overflow: hidden;padding: 0;position: absolute;width: 1px;}#sk-container-id-10 div.sk-estimator {font-family: monospace;background-color: #f0f8ff;border: 1px dotted black;border-radius: 0.25em;box-sizing: border-box;margin-bottom: 0.5em;}#sk-container-id-10 div.sk-estimator:hover {background-color: #d4ebff;}#sk-container-id-10 div.sk-parallel-item::after {content: \"\";width: 100%;border-bottom: 1px solid gray;flex-grow: 1;}#sk-container-id-10 div.sk-label:hover label.sk-toggleable__label {background-color: #d4ebff;}#sk-container-id-10 div.sk-serial::before {content: \"\";position: absolute;border-left: 1px solid gray;box-sizing: border-box;top: 0;bottom: 0;left: 50%;z-index: 0;}#sk-container-id-10 div.sk-serial {display: flex;flex-direction: column;align-items: center;background-color: white;padding-right: 0.2em;padding-left: 0.2em;position: relative;}#sk-container-id-10 div.sk-item {position: relative;z-index: 1;}#sk-container-id-10 div.sk-parallel {display: flex;align-items: stretch;justify-content: center;background-color: white;position: relative;}#sk-container-id-10 div.sk-item::before, #sk-container-id-10 div.sk-parallel-item::before {content: \"\";position: absolute;border-left: 1px solid gray;box-sizing: border-box;top: 0;bottom: 0;left: 50%;z-index: -1;}#sk-container-id-10 div.sk-parallel-item {display: flex;flex-direction: column;z-index: 1;position: relative;background-color: white;}#sk-container-id-10 div.sk-parallel-item:first-child::after {align-self: flex-end;width: 50%;}#sk-container-id-10 div.sk-parallel-item:last-child::after {align-self: flex-start;width: 50%;}#sk-container-id-10 div.sk-parallel-item:only-child::after {width: 0;}#sk-container-id-10 div.sk-dashed-wrapped {border: 1px dashed gray;margin: 0 0.4em 0.5em 0.4em;box-sizing: border-box;padding-bottom: 0.4em;background-color: white;}#sk-container-id-10 div.sk-label label {font-family: monospace;font-weight: bold;display: inline-block;line-height: 1.2em;}#sk-container-id-10 div.sk-label-container {text-align: center;}#sk-container-id-10 div.sk-container {/* jupyter's `normalize.less` sets `[hidden] { display: none; }` but bootstrap.min.css set `[hidden] { display: none !important; }` so we also need the `!important` here to be able to override the default hidden behavior on the sphinx rendered scikit-learn.org. See: https://github.com/scikit-learn/scikit-learn/issues/21755 */display: inline-block !important;position: relative;}#sk-container-id-10 div.sk-text-repr-fallback {display: none;}</style><div id=\"sk-container-id-10\" class=\"sk-top-container\"><div class=\"sk-text-repr-fallback\"><pre>SelectKBest(k=25)</pre><b>In a Jupyter environment, please rerun this cell to show the HTML representation or trust the notebook. <br />On GitHub, the HTML representation is unable to render, please try loading this page with nbviewer.org.</b></div><div class=\"sk-container\" hidden><div class=\"sk-item\"><div class=\"sk-estimator sk-toggleable\"><input class=\"sk-toggleable__control sk-hidden--visually\" id=\"sk-estimator-id-16\" type=\"checkbox\" checked><label for=\"sk-estimator-id-16\" class=\"sk-toggleable__label sk-toggleable__label-arrow\">SelectKBest</label><div class=\"sk-toggleable__content\"><pre>SelectKBest(k=25)</pre></div></div></div></div></div>"
      ],
      "text/plain": [
       "SelectKBest(k=25)"
      ]
     },
     "execution_count": 49,
     "metadata": {},
     "output_type": "execute_result"
    }
   ],
   "source": [
    "selection.fit(X, y)\n",
    "select_k_best.fit(X, y)"
   ]
  },
  {
   "cell_type": "code",
   "execution_count": 45,
   "id": "ceef176a",
   "metadata": {},
   "outputs": [],
   "source": [
    "feature_names = X.columns"
   ]
  },
  {
   "cell_type": "code",
   "execution_count": 43,
   "id": "352e0270",
   "metadata": {},
   "outputs": [
    {
     "data": {
      "text/plain": [
       "array([False,  True,  True,  True,  True, False, False, False, False,\n",
       "        True,  True,  True,  True, False, False, False, False,  True,\n",
       "        True, False,  True, False, False,  True, False,  True,  True,\n",
       "        True,  True, False,  True,  True,  True, False, False, False,\n",
       "        True, False,  True,  True,  True, False,  True, False, False,\n",
       "        True,  True,  True, False,  True,  True, False, False,  True,\n",
       "        True,  True,  True,  True,  True,  True,  True,  True, False,\n",
       "        True,  True,  True,  True,  True,  True,  True, False,  True,\n",
       "        True,  True,  True,  True])"
      ]
     },
     "execution_count": 43,
     "metadata": {},
     "output_type": "execute_result"
    }
   ],
   "source": [
    "selection.get_support()"
   ]
  },
  {
   "cell_type": "code",
   "execution_count": 46,
   "id": "cee226c0",
   "metadata": {},
   "outputs": [
    {
     "data": {
      "text/plain": [
       "Index(['Cerebrovascular_disease', 'Chronic_pulmonary_disease',\n",
       "       'Congestive_heart_failure', 'Diabetes_with_chronic_complications',\n",
       "       'Metastatic_solid_tumor', 'Myocardial_infarction',\n",
       "       'Peptic_ulcer_disease', 'Peripheral_vascular_disease', 'Histologie_2',\n",
       "       'Histologie_3', 'Lokalisation_mittlerer_thorakaler_ Abschnitt',\n",
       "       'Lokalisation_unterer_thorakaler_Abschnitt', 'Vorbehandlung_1',\n",
       "       'Vorbehandlung_2', 'Vorbehandlung_3', 'Tpre_0', 'Tpre_T1', 'Tpre_T2',\n",
       "       'Tpre_T3', 'Npre_0', 'Npre_N1', 'Npre_N2', 'Npre_N3', 'ASA_0.0',\n",
       "       'ASA_3.0', 'ASA_4.0', 'GFR_0', 'GFR_NI_Std2', 'GFR_NI_Std3',\n",
       "       'AgetAtSurgery', 'Groesse', 'BMI', 'Natrium', 'Kalium', 'Harnstoff',\n",
       "       'Kreatinin', 'TSH', 'GPT', 'Bilirubin', 'Lipase', 'CRP', 'Hämoglobin',\n",
       "       'Leukozyten', 'Thrombozyten', 'Quick', 'aPTT', 'Erythrozyten',\n",
       "       'CharlsonComorbidityScore', 'Gewicht', 'gamma-GT'],\n",
       "      dtype='object')"
      ]
     },
     "execution_count": 46,
     "metadata": {},
     "output_type": "execute_result"
    }
   ],
   "source": [
    "feature_names[selection.get_support()]"
   ]
  },
  {
   "cell_type": "code",
   "execution_count": 50,
   "id": "f0f04e90",
   "metadata": {},
   "outputs": [
    {
     "data": {
      "text/plain": [
       "Index(['Chronic_pulmonary_disease', 'Congestive_heart_failure',\n",
       "       'Liver_disease_moderate_to_severe', 'Metastatic_solid_tumor',\n",
       "       'Peripheral_vascular_disease', 'Renal_disease_severe',\n",
       "       'Rheumatic_disease', 'Histologie_1', 'Lokalisation_cervikal',\n",
       "       'Vorbehandlung_3', 'Tpre_0', 'Npre_N3', 'ASA_2.0', 'ASA_3.0', 'Natrium',\n",
       "       'Kalium', 'GOT', 'Lipase', 'CRP', 'Quick', 'INR', 'aPTT',\n",
       "       'Erythrozyten', 'CharlsonComorbidityScore', 'gamma-GT'],\n",
       "      dtype='object')"
      ]
     },
     "execution_count": 50,
     "metadata": {},
     "output_type": "execute_result"
    }
   ],
   "source": [
    "feature_names[select_k_best.get_support()]"
   ]
  },
  {
   "cell_type": "code",
   "execution_count": 56,
   "id": "9e8f54ac",
   "metadata": {},
   "outputs": [],
   "source": [
    "from src.utils.feature_selector import FeatureSelector\n",
    "import matplotlib.pyplot as plt"
   ]
  },
  {
   "cell_type": "code",
   "execution_count": 52,
   "id": "4f45e0af",
   "metadata": {},
   "outputs": [],
   "source": [
    "fs = FeatureSelector()"
   ]
  },
  {
   "cell_type": "code",
   "execution_count": 53,
   "id": "ffc51faa",
   "metadata": {},
   "outputs": [
    {
     "name": "stdout",
     "output_type": "stream",
     "text": [
      "[]\n",
      "0 features with a single unique value.\n",
      "\n"
     ]
    }
   ],
   "source": [
    "fs.identify_single_unique(X)"
   ]
  },
  {
   "cell_type": "code",
   "execution_count": 57,
   "id": "5ef5b0b1",
   "metadata": {},
   "outputs": [],
   "source": [
    "fs.plot_unique()"
   ]
  },
  {
   "cell_type": "code",
   "execution_count": 60,
   "id": "3fdf4df5",
   "metadata": {},
   "outputs": [
    {
     "data": {
      "text/plain": [
       "<AxesSubplot:ylabel='Frequency'>"
      ]
     },
     "execution_count": 60,
     "metadata": {},
     "output_type": "execute_result"
    }
   ],
   "source": [
    "fs.unique_stats.plot.hist()"
   ]
  },
  {
   "cell_type": "code",
   "execution_count": 61,
   "id": "7804767c",
   "metadata": {},
   "outputs": [],
   "source": [
    "plt.show()"
   ]
  },
  {
   "cell_type": "code",
   "execution_count": null,
   "id": "64ab2a0e",
   "metadata": {},
   "outputs": [],
   "source": []
  }
 ],
 "metadata": {
  "kernelspec": {
   "display_name": "Python 3 (ipykernel)",
   "language": "python",
   "name": "python3"
  },
  "language_info": {
   "codemirror_mode": {
    "name": "ipython",
    "version": 3
   },
   "file_extension": ".py",
   "mimetype": "text/x-python",
   "name": "python",
   "nbconvert_exporter": "python",
   "pygments_lexer": "ipython3",
   "version": "3.8.8"
  }
 },
 "nbformat": 4,
 "nbformat_minor": 5
}