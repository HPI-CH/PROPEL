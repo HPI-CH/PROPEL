{
 "cells": [
  {
   "cell_type": "code",
   "execution_count": 1,
   "id": "10dce61d",
   "metadata": {},
   "outputs": [],
   "source": [
    "from pathlib import Path\n",
    "import pandas as pd\n",
    "import numpy as np\n",
    "import json"
   ]
  },
  {
   "cell_type": "code",
   "execution_count": 6,
   "id": "7f10cae3",
   "metadata": {},
   "outputs": [],
   "source": [
    "log_dir=Path(r'./final_results')\n",
    "#log_dir=Path(r'./final_results_rerun')\n",
    "results_filename = 'all_model_metrics.json'\n",
    "runs=[]\n",
    "for run_instance in log_dir.iterdir():\n",
    "    if run_instance.is_dir():\n",
    "        iteration_result = Path(run_instance / results_filename)\n",
    "        # iteration_result = Path(run_instance / '30d_mortality' / results_filename)\n",
    "        if iteration_result.exists():\n",
    "            result = json.load(open(iteration_result))\n",
    "            runs.append(result)"
   ]
  },
  {
   "cell_type": "code",
   "execution_count": 7,
   "id": "a671f4d4",
   "metadata": {},
   "outputs": [
    {
     "data": {
      "text/plain": [
       "{'DecisionTreeClassifier': 0.660625,\n",
       " 'RandomForestClassifier': 0.725625,\n",
       " 'GradientBoostingClassifier': 0.6525,\n",
       " 'LogisticRegression': 0.655,\n",
       " 'SVC': 0.665,\n",
       " 'LinearSVC': 0.6325000000000001,\n",
       " 'MLPClassifier': 0.6575}"
      ]
     },
     "execution_count": 7,
     "metadata": {},
     "output_type": "execute_result"
    }
   ],
   "source": [
    "{model: np.mean(results[0]) for model, results in runs[0]['roc_auc'].items() if model != \"DummyClassifier\"}"
   ]
  },
  {
   "cell_type": "code",
   "execution_count": 8,
   "id": "566821e3",
   "metadata": {},
   "outputs": [
    {
     "name": "stdout",
     "output_type": "stream",
     "text": [
      "roc_auc\n",
      "{'DecisionTreeClassifier': (0.6147875, 0.5, 0.7725), 'RandomForestClassifier': (0.6680375000000001, 0.48625, 0.860625), 'GradientBoostingClassifier': (0.7226249999999999, 0.575, 0.8625), 'LogisticRegression': (0.7447625000000001, 0.6287499999999999, 0.86125), 'SVC': (0.7313124999999999, 0.4275, 0.845), 'LinearSVC': (0.7074375, 0.58375, 0.81), 'MLPClassifier': (0.7153625000000001, 0.45625, 0.845)}\n",
      "\n",
      "prc_auc\n",
      "{'DecisionTreeClassifier': (0.26914884597916877, 0.07736531614240591, 0.47730486425339363), 'RandomForestClassifier': (0.21556820453802683, 0.04229961215255333, 0.41025012569130215), 'GradientBoostingClassifier': (0.22600159044150822, 0.1258871336996337, 0.4191368003771255), 'LogisticRegression': (0.22985537990578186, 0.10080820221445222, 0.39637786685820575), 'SVC': (0.22701524621280642, 0.05095744501027009, 0.34177884889233573), 'LinearSVC': (0.23222890073018848, 0.08898476660401002, 0.39259271859891054), 'MLPClassifier': (0.28373075918179064, 0.12394502516453736, 0.41465086996337)}\n",
      "\n",
      "mcc\n",
      "{'DecisionTreeClassifier': (0.12772097335107158, -0.022464937291173236, 0.24783186070915153), 'RandomForestClassifier': (0.0011569640361619405, -0.009419417382415923, 0.11317114473842801), 'GradientBoostingClassifier': (0.002054831081317892, -0.01828830693629889, 0.125), 'LogisticRegression': (0.129522320212816, 0.06066285105509381, 0.2263545740803547), 'SVC': (0.11829996140514756, -0.019642857142857142, 0.234018308092311), 'LinearSVC': (0.11727424808935988, 0.013659894729259731, 0.2061549675148467), 'MLPClassifier': (0.05874030848178065, -0.011919417382415922, 0.2475)}\n",
      "\n"
     ]
    }
   ],
   "source": [
    "aggregated_cv_results = {}\n",
    "for metric in ['roc_auc', 'prc_auc', 'mcc']:\n",
    "    single_metric_results = [single_result[metric] for single_result in runs]\n",
    "    mean_cv_results = [{model: np.mean(results[0]) for model, results in single_seed_results.items() if model != \"DummyClassifier\"} for single_seed_results in single_metric_results]\n",
    "    rearrange_for_model = {model: [single_cv_result[model] for single_cv_result in mean_cv_results] for model in mean_cv_results[0].keys()}\n",
    "    aggregated_per_model = {model: (np.mean(results), np.min(results), np.max(results)) for model, results in rearrange_for_model.items()}\n",
    "    print(metric)\n",
    "    print(aggregated_per_model)\n",
    "    print()\n",
    "    aggregated_cv_results[metric] = aggregated_per_model"
   ]
  },
  {
   "cell_type": "code",
   "execution_count": 9,
   "id": "6ae72ddf",
   "metadata": {},
   "outputs": [
    {
     "data": {
      "text/plain": [
       "{'roc_auc': (0.6147875, 0.7447625000000001),\n",
       " 'prc_auc': (0.21556820453802683, 0.28373075918179064),\n",
       " 'mcc': (0.0011569640361619405, 0.129522320212816)}"
      ]
     },
     "execution_count": 9,
     "metadata": {},
     "output_type": "execute_result"
    }
   ],
   "source": [
    "{metric: (np.min([entry[0] for entry in model_results.values()]), np.max([entry[0] for entry in model_results.values()])) for metric, model_results in aggregated_cv_results.items()}"
   ]
  },
  {
   "cell_type": "code",
   "execution_count": null,
   "id": "d729328d",
   "metadata": {},
   "outputs": [],
   "source": []
  }
 ],
 "metadata": {
  "kernelspec": {
   "display_name": "Python 3 (ipykernel)",
   "language": "python",
   "name": "python3"
  },
  "language_info": {
   "codemirror_mode": {
    "name": "ipython",
    "version": 3
   },
   "file_extension": ".py",
   "mimetype": "text/x-python",
   "name": "python",
   "nbconvert_exporter": "python",
   "pygments_lexer": "ipython3",
   "version": "3.8.8"
  }
 },
 "nbformat": 4,
 "nbformat_minor": 5
}
