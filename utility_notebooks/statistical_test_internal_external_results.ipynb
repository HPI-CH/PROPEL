{
 "cells": [
  {
   "cell_type": "code",
   "execution_count": 18,
   "id": "ec0e4d39",
   "metadata": {},
   "outputs": [],
   "source": [
    "import pandas as pd\n",
    "import numpy as np\n",
    "from pathlib import Path\n",
    "import matplotlib.pyplot as plt\n",
    "import scipy as sp"
   ]
  },
  {
   "cell_type": "code",
   "execution_count": 56,
   "id": "8c0b8498",
   "metadata": {},
   "outputs": [],
   "source": [
    "log_dirs = Path(r\"./final_results_internal/\"), Path(r\"./final_results/\")"
   ]
  },
  {
   "cell_type": "code",
   "execution_count": 52,
   "id": "c09efe19",
   "metadata": {},
   "outputs": [],
   "source": [
    "def get_all_results(log_dir, metric):\n",
    "    runs = []\n",
    "    for run_instance in log_dir.iterdir():\n",
    "        if run_instance.is_dir():\n",
    "            iteration_result = Path(run_instance / \"data_frames\" / f\"{metric}.csv\")\n",
    "            if iteration_result.exists():\n",
    "                result = pd.read_csv(open(iteration_result), index_col=0)\n",
    "                runs.append(result)\n",
    "    return pd.concat(runs)"
   ]
  },
  {
   "cell_type": "code",
   "execution_count": 10,
   "id": "cc9eb6ff",
   "metadata": {},
   "outputs": [
    {
     "data": {
      "text/html": [
       "<div>\n",
       "<style scoped>\n",
       "    .dataframe tbody tr th:only-of-type {\n",
       "        vertical-align: middle;\n",
       "    }\n",
       "\n",
       "    .dataframe tbody tr th {\n",
       "        vertical-align: top;\n",
       "    }\n",
       "\n",
       "    .dataframe thead th {\n",
       "        text-align: right;\n",
       "    }\n",
       "</style>\n",
       "<table border=\"1\" class=\"dataframe\">\n",
       "  <thead>\n",
       "    <tr style=\"text-align: right;\">\n",
       "      <th></th>\n",
       "      <th>30d_mortality</th>\n",
       "      <th>90d_mortality</th>\n",
       "    </tr>\n",
       "  </thead>\n",
       "  <tbody>\n",
       "    <tr>\n",
       "      <th>DummyClassifier</th>\n",
       "      <td>0.512195</td>\n",
       "      <td>0.524390</td>\n",
       "    </tr>\n",
       "    <tr>\n",
       "      <th>DecisionTreeClassifier</th>\n",
       "      <td>0.058479</td>\n",
       "      <td>0.073848</td>\n",
       "    </tr>\n",
       "    <tr>\n",
       "      <th>RandomForestClassifier</th>\n",
       "      <td>0.070261</td>\n",
       "      <td>0.307226</td>\n",
       "    </tr>\n",
       "    <tr>\n",
       "      <th>GradientBoostingClassifier</th>\n",
       "      <td>0.058194</td>\n",
       "      <td>0.230749</td>\n",
       "    </tr>\n",
       "    <tr>\n",
       "      <th>LogisticRegression</th>\n",
       "      <td>0.030643</td>\n",
       "      <td>0.300884</td>\n",
       "    </tr>\n",
       "    <tr>\n",
       "      <th>...</th>\n",
       "      <td>...</td>\n",
       "      <td>...</td>\n",
       "    </tr>\n",
       "    <tr>\n",
       "      <th>GradientBoostingClassifier</th>\n",
       "      <td>0.020470</td>\n",
       "      <td>0.111809</td>\n",
       "    </tr>\n",
       "    <tr>\n",
       "      <th>LogisticRegression</th>\n",
       "      <td>0.017683</td>\n",
       "      <td>0.150739</td>\n",
       "    </tr>\n",
       "    <tr>\n",
       "      <th>SVC</th>\n",
       "      <td>0.017687</td>\n",
       "      <td>0.198698</td>\n",
       "    </tr>\n",
       "    <tr>\n",
       "      <th>LinearSVC</th>\n",
       "      <td>0.018913</td>\n",
       "      <td>0.208106</td>\n",
       "    </tr>\n",
       "    <tr>\n",
       "      <th>MLPClassifier</th>\n",
       "      <td>0.017830</td>\n",
       "      <td>0.293592</td>\n",
       "    </tr>\n",
       "  </tbody>\n",
       "</table>\n",
       "<p>800 rows × 2 columns</p>\n",
       "</div>"
      ],
      "text/plain": [
       "                            30d_mortality  90d_mortality\n",
       "DummyClassifier                  0.512195       0.524390\n",
       "DecisionTreeClassifier           0.058479       0.073848\n",
       "RandomForestClassifier           0.070261       0.307226\n",
       "GradientBoostingClassifier       0.058194       0.230749\n",
       "LogisticRegression               0.030643       0.300884\n",
       "...                                   ...            ...\n",
       "GradientBoostingClassifier       0.020470       0.111809\n",
       "LogisticRegression               0.017683       0.150739\n",
       "SVC                              0.017687       0.198698\n",
       "LinearSVC                        0.018913       0.208106\n",
       "MLPClassifier                    0.017830       0.293592\n",
       "\n",
       "[800 rows x 2 columns]"
      ]
     },
     "execution_count": 10,
     "metadata": {},
     "output_type": "execute_result"
    }
   ],
   "source": [
    "internal_samples"
   ]
  },
  {
   "cell_type": "code",
   "execution_count": 11,
   "id": "e459a387",
   "metadata": {},
   "outputs": [
    {
     "data": {
      "text/html": [
       "<div>\n",
       "<style scoped>\n",
       "    .dataframe tbody tr th:only-of-type {\n",
       "        vertical-align: middle;\n",
       "    }\n",
       "\n",
       "    .dataframe tbody tr th {\n",
       "        vertical-align: top;\n",
       "    }\n",
       "\n",
       "    .dataframe thead th {\n",
       "        text-align: right;\n",
       "    }\n",
       "</style>\n",
       "<table border=\"1\" class=\"dataframe\">\n",
       "  <thead>\n",
       "    <tr style=\"text-align: right;\">\n",
       "      <th></th>\n",
       "      <th>Death_within_primary_stay</th>\n",
       "      <th>30d_mortality</th>\n",
       "      <th>90d_mortality</th>\n",
       "    </tr>\n",
       "  </thead>\n",
       "  <tbody>\n",
       "    <tr>\n",
       "      <th>DummyClassifier</th>\n",
       "      <td>0.550676</td>\n",
       "      <td>0.520270</td>\n",
       "      <td>0.543919</td>\n",
       "    </tr>\n",
       "    <tr>\n",
       "      <th>DecisionTreeClassifier</th>\n",
       "      <td>0.160068</td>\n",
       "      <td>0.145568</td>\n",
       "      <td>0.216649</td>\n",
       "    </tr>\n",
       "    <tr>\n",
       "      <th>RandomForestClassifier</th>\n",
       "      <td>0.263725</td>\n",
       "      <td>0.033970</td>\n",
       "      <td>0.292587</td>\n",
       "    </tr>\n",
       "    <tr>\n",
       "      <th>GradientBoostingClassifier</th>\n",
       "      <td>0.253270</td>\n",
       "      <td>0.101225</td>\n",
       "      <td>0.260445</td>\n",
       "    </tr>\n",
       "    <tr>\n",
       "      <th>LogisticRegression</th>\n",
       "      <td>0.348185</td>\n",
       "      <td>0.291950</td>\n",
       "      <td>0.442342</td>\n",
       "    </tr>\n",
       "    <tr>\n",
       "      <th>...</th>\n",
       "      <td>...</td>\n",
       "      <td>...</td>\n",
       "      <td>...</td>\n",
       "    </tr>\n",
       "    <tr>\n",
       "      <th>GradientBoostingClassifier</th>\n",
       "      <td>0.200736</td>\n",
       "      <td>0.092934</td>\n",
       "      <td>0.126699</td>\n",
       "    </tr>\n",
       "    <tr>\n",
       "      <th>LogisticRegression</th>\n",
       "      <td>0.240921</td>\n",
       "      <td>0.290794</td>\n",
       "      <td>0.461976</td>\n",
       "    </tr>\n",
       "    <tr>\n",
       "      <th>SVC</th>\n",
       "      <td>0.305837</td>\n",
       "      <td>0.245597</td>\n",
       "      <td>0.386102</td>\n",
       "    </tr>\n",
       "    <tr>\n",
       "      <th>LinearSVC</th>\n",
       "      <td>0.257475</td>\n",
       "      <td>0.135002</td>\n",
       "      <td>0.463012</td>\n",
       "    </tr>\n",
       "    <tr>\n",
       "      <th>MLPClassifier</th>\n",
       "      <td>0.287278</td>\n",
       "      <td>0.082564</td>\n",
       "      <td>0.488230</td>\n",
       "    </tr>\n",
       "  </tbody>\n",
       "</table>\n",
       "<p>800 rows × 3 columns</p>\n",
       "</div>"
      ],
      "text/plain": [
       "                            Death_within_primary_stay  30d_mortality  \\\n",
       "DummyClassifier                              0.550676       0.520270   \n",
       "DecisionTreeClassifier                       0.160068       0.145568   \n",
       "RandomForestClassifier                       0.263725       0.033970   \n",
       "GradientBoostingClassifier                   0.253270       0.101225   \n",
       "LogisticRegression                           0.348185       0.291950   \n",
       "...                                               ...            ...   \n",
       "GradientBoostingClassifier                   0.200736       0.092934   \n",
       "LogisticRegression                           0.240921       0.290794   \n",
       "SVC                                          0.305837       0.245597   \n",
       "LinearSVC                                    0.257475       0.135002   \n",
       "MLPClassifier                                0.287278       0.082564   \n",
       "\n",
       "                            90d_mortality  \n",
       "DummyClassifier                  0.543919  \n",
       "DecisionTreeClassifier           0.216649  \n",
       "RandomForestClassifier           0.292587  \n",
       "GradientBoostingClassifier       0.260445  \n",
       "LogisticRegression               0.442342  \n",
       "...                                   ...  \n",
       "GradientBoostingClassifier       0.126699  \n",
       "LogisticRegression               0.461976  \n",
       "SVC                              0.386102  \n",
       "LinearSVC                        0.463012  \n",
       "MLPClassifier                    0.488230  \n",
       "\n",
       "[800 rows x 3 columns]"
      ]
     },
     "execution_count": 11,
     "metadata": {},
     "output_type": "execute_result"
    }
   ],
   "source": [
    "external_samples"
   ]
  },
  {
   "cell_type": "code",
   "execution_count": 61,
   "id": "4a33029f",
   "metadata": {},
   "outputs": [
    {
     "name": "stdout",
     "output_type": "stream",
     "text": [
      "roc_auc (testing if training cohort is greater than validation cohort)\n",
      "\tDecisionTreeClassifier\n",
      "\t\t90d_mortality - p-value = 0.4771044046860516\t NOT SIGNIFICANT IN EITHER DIRECTION\n",
      "\t\t30d_mortality - p-value = 0.9930604516260937\t SIGNIFICANT IN OPPOSITE DIRECTION\n",
      "\tRandomForestClassifier\n",
      "\t\t90d_mortality - p-value = 4.371837209631497e-08\n",
      "\t\t30d_mortality - p-value = 0.5817877994586954\t NOT SIGNIFICANT IN EITHER DIRECTION\n",
      "\tGradientBoostingClassifier\n",
      "\t\t90d_mortality - p-value = 0.33358169133526294\t NOT SIGNIFICANT IN EITHER DIRECTION\n",
      "\t\t30d_mortality - p-value = 0.022101726216964764\n",
      "\tLogisticRegression\n",
      "\t\t90d_mortality - p-value = 0.00033952078827225075\n",
      "\t\t30d_mortality - p-value = 0.8312526797398458\t NOT SIGNIFICANT IN EITHER DIRECTION\n",
      "\tSVC\n",
      "\t\t90d_mortality - p-value = 7.210876416235874e-05\n",
      "\t\t30d_mortality - p-value = 0.6352839029123372\t NOT SIGNIFICANT IN EITHER DIRECTION\n",
      "\tLinearSVC\n",
      "\t\t90d_mortality - p-value = 1.0542931765757739e-07\n",
      "\t\t30d_mortality - p-value = 0.9842013562172847\t SIGNIFICANT IN OPPOSITE DIRECTION\n",
      "\tMLPClassifier\n",
      "\t\t90d_mortality - p-value = 0.08949359476943392\t NOT SIGNIFICANT IN EITHER DIRECTION\n",
      "\t\t30d_mortality - p-value = 0.9414969255028945\t NOT SIGNIFICANT IN EITHER DIRECTION\n",
      "prc_auc (testing if training cohort is less than validation cohort)\n",
      "\tDecisionTreeClassifier\n",
      "\t\t90d_mortality - p-value = 1.0982499575935708e-06\n",
      "\t\t30d_mortality - p-value = 1.4203846480154612e-15\n",
      "\tRandomForestClassifier\n",
      "\t\t90d_mortality - p-value = 0.7049762678524032\t NOT SIGNIFICANT IN EITHER DIRECTION\n",
      "\t\t30d_mortality - p-value = 1.4258101015315344e-12\n",
      "\tGradientBoostingClassifier\n",
      "\t\t90d_mortality - p-value = 3.0490713165266593e-09\n",
      "\t\t30d_mortality - p-value = 3.0053651578662374e-12\n",
      "\tLogisticRegression\n",
      "\t\t90d_mortality - p-value = 2.7768427739517915e-16\n",
      "\t\t30d_mortality - p-value = 3.282953965618178e-27\n",
      "\tSVC\n",
      "\t\t90d_mortality - p-value = 1.0339881356304525e-08\n",
      "\t\t30d_mortality - p-value = 1.467660037996208e-20\n",
      "\tLinearSVC\n",
      "\t\t90d_mortality - p-value = 1.1192294681903035e-13\n",
      "\t\t30d_mortality - p-value = 1.194825112816306e-24\n",
      "\tMLPClassifier\n",
      "\t\t90d_mortality - p-value = 2.6478227121825893e-14\n",
      "\t\t30d_mortality - p-value = 2.463764189505615e-21\n",
      "mcc (testing if training cohort is less than validation cohort)\n",
      "\tDecisionTreeClassifier\n",
      "\t\t90d_mortality - p-value = 0.4386711013683124\t NOT SIGNIFICANT IN EITHER DIRECTION\n",
      "\t\t30d_mortality - p-value = 1.8647981059544474e-06\n",
      "\tRandomForestClassifier\n",
      "\t\t90d_mortality - p-value = 0.9999999999999994\t SIGNIFICANT IN OPPOSITE DIRECTION\n",
      "\t\t30d_mortality - p-value = 0.010249204602629318\n",
      "\tGradientBoostingClassifier\n",
      "\t\t90d_mortality - p-value = 0.05205036481177748\t NOT SIGNIFICANT IN EITHER DIRECTION\n",
      "\t\t30d_mortality - p-value = 0.05110031431024964\t NOT SIGNIFICANT IN EITHER DIRECTION\n",
      "\tLogisticRegression\n",
      "\t\t90d_mortality - p-value = 0.24336757491232902\t NOT SIGNIFICANT IN EITHER DIRECTION\n",
      "\t\t30d_mortality - p-value = 3.823196682452702e-09\n",
      "\tSVC\n",
      "\t\t90d_mortality - p-value = 0.3723749065235199\t NOT SIGNIFICANT IN EITHER DIRECTION\n",
      "\t\t30d_mortality - p-value = 2.906028105813125e-13\n",
      "\tLinearSVC\n",
      "\t\t90d_mortality - p-value = 0.371049366631181\t NOT SIGNIFICANT IN EITHER DIRECTION\n",
      "\t\t30d_mortality - p-value = 1.6898210297663094e-07\n",
      "\tMLPClassifier\n",
      "\t\t90d_mortality - p-value = 0.07373633668027642\t NOT SIGNIFICANT IN EITHER DIRECTION\n",
      "\t\t30d_mortality - p-value = 2.137996315686553e-13\n"
     ]
    }
   ],
   "source": [
    "for metric in ['roc_auc', 'prc_auc', 'mcc']:\n",
    "    side = 'greater' if metric == 'roc_auc' else 'less'\n",
    "    print(f\"{metric} (testing if training cohort is {side} than validation cohort)\")\n",
    "    internal_samples = get_all_results(log_dirs[0], metric)\n",
    "    external_samples = get_all_results(log_dirs[1], metric)\n",
    "    for model in external_samples.index.unique():\n",
    "        if model == \"DummyClassifier\":\n",
    "            continue\n",
    "        print(f\"\\t{model}\")\n",
    "        for endpoint in ['90d_mortality', '30d_mortality']:\n",
    "            single_model_internal_samples = list(internal_samples.loc[model, endpoint])\n",
    "            single_model_external_samples = list(external_samples.loc[model, endpoint])\n",
    "            mwu_results = sp.stats.mannwhitneyu(single_model_internal_samples, single_model_external_samples, alternative=side)\n",
    "            if mwu_results.pvalue >= 0.05:\n",
    "                second_mwu_results = sp.stats.mannwhitneyu(single_model_external_samples, single_model_internal_samples, alternative=side)\n",
    "                if second_mwu_results.pvalue >= 0.05:\n",
    "                    print(f\"\\t\\t{endpoint} - p-value = {mwu_results.pvalue}\\t NOT SIGNIFICANT IN EITHER DIRECTION\")\n",
    "                else:\n",
    "                    print(f\"\\t\\t{endpoint} - p-value = {mwu_results.pvalue}\\t SIGNIFICANT IN OPPOSITE DIRECTION\")\n",
    "            else:\n",
    "                print(f\"\\t\\t{endpoint} - p-value = {mwu_results.pvalue}\")"
   ]
  },
  {
   "cell_type": "code",
   "execution_count": 42,
   "id": "b9706624",
   "metadata": {},
   "outputs": [],
   "source": [
    "single_model_internal_samples = list(internal_samples.loc[\"RandomForestClassifier\", \"30d_mortality\"])\n",
    "single_model_external_samples = list(external_samples.loc[\"RandomForestClassifier\", \"30d_mortality\"])"
   ]
  },
  {
   "cell_type": "code",
   "execution_count": 43,
   "id": "263be959",
   "metadata": {},
   "outputs": [
    {
     "data": {
      "text/plain": [
       "<matplotlib.legend.Legend at 0x7fb72d7cca60>"
      ]
     },
     "execution_count": 43,
     "metadata": {},
     "output_type": "execute_result"
    },
    {
     "data": {
      "image/png": "[encoded data removed]",
      "text/plain": [
       "<Figure size 640x480 with 1 Axes>"
      ]
     },
     "metadata": {},
     "output_type": "display_data"
    }
   ],
   "source": [
    "plt.hist(single_model_internal_samples, bins=np.arange(0, 0.5, 0.02), label=\"internal\")\n",
    "plt.legend()"
   ]
  },
  {
   "cell_type": "code",
   "execution_count": 44,
   "id": "49763a23",
   "metadata": {},
   "outputs": [
    {
     "data": {
      "text/plain": [
       "(array([ 0., 20., 36., 24., 12.,  4.,  1.,  0.,  1.,  1.,  0.,  1.,  0.,\n",
       "         0.,  0.,  0.,  0.,  0.,  0.,  0.,  0.,  0.,  0.,  0.]),\n",
       " array([0.  , 0.02, 0.04, 0.06, 0.08, 0.1 , 0.12, 0.14, 0.16, 0.18, 0.2 ,\n",
       "        0.22, 0.24, 0.26, 0.28, 0.3 , 0.32, 0.34, 0.36, 0.38, 0.4 , 0.42,\n",
       "        0.44, 0.46, 0.48]),\n",
       " <BarContainer object of 24 artists>)"
      ]
     },
     "execution_count": 44,
     "metadata": {},
     "output_type": "execute_result"
    },
    {
     "data": {
      "image/png": "[encoded data removed]",
      "text/plain": [
       "<Figure size 640x480 with 1 Axes>"
      ]
     },
     "metadata": {},
     "output_type": "display_data"
    }
   ],
   "source": [
    "plt.hist(single_model_external_samples, bins=np.arange(0, 0.5, 0.02), label=\"external\")"
   ]
  },
  {
   "cell_type": "code",
   "execution_count": 25,
   "id": "fce6fab4",
   "metadata": {},
   "outputs": [
    {
     "data": {
      "text/plain": [
       "MannwhitneyuResult(statistic=1685.0, pvalue=2.7768427739517915e-16)"
      ]
     },
     "execution_count": 25,
     "metadata": {},
     "output_type": "execute_result"
    }
   ],
   "source": [
    "sp.stats.mannwhitneyu(internal_samples_logreg_90d, external_samples_logreg_90d, alternative='less')"
   ]
  },
  {
   "cell_type": "code",
   "execution_count": null,
   "id": "ecdd9653",
   "metadata": {},
   "outputs": [],
   "source": []
  }
 ],
 "metadata": {
  "kernelspec": {
   "display_name": "Python 3 (ipykernel)",
   "language": "python",
   "name": "python3"
  },
  "language_info": {
   "codemirror_mode": {
    "name": "ipython",
    "version": 3
   },
   "file_extension": ".py",
   "mimetype": "text/x-python",
   "name": "python",
   "nbconvert_exporter": "python",
   "pygments_lexer": "ipython3",
   "version": "3.8.8"
  }
 },
 "nbformat": 4,
 "nbformat_minor": 5
}
